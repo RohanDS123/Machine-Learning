{
  "nbformat": 4,
  "nbformat_minor": 0,
  "metadata": {
    "colab": {
      "provenance": []
    },
    "kernelspec": {
      "name": "python3",
      "display_name": "Python 3"
    },
    "language_info": {
      "name": "python"
    }
  },
  "cells": [
    {
      "cell_type": "markdown",
      "source": [
        "# **Machine Learning-**"
      ],
      "metadata": {
        "id": "9iQHsr-vqwiI"
      }
    },
    {
      "cell_type": "markdown",
      "source": [
        "**Machine learning is broad. The media makes it sound like magic. Reading this article will change that. It will give you an overview of the most common types of problems machine learning can be used for. And at the same time give you a framework to approach your future machine learning proof of concept projects.**\n",
        "\n",
        "**First, we’ll clear up some definitions.**\n",
        "\n",
        "**How is machine learning, artificial intelligence and data science different?**\n",
        "\n",
        "**These three topics can be hard to understand because there are no formal definitions. Even after being a machine learning engineer for over a year, I don’t have a good answer to this question. I’d be suspicious of anyone who claims they do.**\n",
        "\n",
        "**To avoid confusion, we’ll keep it simple. For this article, you can consider machine learning the process of finding patterns in data to understand something more or to predict some kind of future event.**\n",
        "\n",
        "**The following steps have a bias towards building something and seeing how it works. Learning by doing.**"
      ],
      "metadata": {
        "id": "pqBRSj-QImyW"
      }
    },
    {
      "cell_type": "markdown",
      "source": [
        "# **6 steps for your next machine learning project :**"
      ],
      "metadata": {
        "id": "kFS_jG_1iArQ"
      }
    },
    {
      "cell_type": "markdown",
      "source": [
        "**A machine learning piplines can be broken down into three major steps, Data collection, data modelling and deployment. All influence one another.**\n",
        "\n",
        "**You may start a project by collection data,model it,realise the data you collected was poor, go back to collecting data,model it again, find a good model, deploy it, find it doesn't work , make another model, deploy it, find it doesn't work again,go back to data collection. It's a cycle.**\n",
        "\n",
        "- **Wait, what does model mean? What's does deploy mean? How do i collect data?**\n",
        "\n",
        "**Great questions.**\n",
        "\n",
        "**How you collect data will depened on your problem. We will look at examples in a minute.But one way could be your customer puchases in a spreadsheet.**\n",
        "\n",
        "**Modelling - Modelling refers to using a machine learning algorithm to find insights within your collected data.**\n",
        "\n",
        "- **What's the difference between a normal algorithm and a machine learning algorithm?**\n",
        "\n",
        "**Like a cooking recipe for your favourite chicken dish, a normal algorithm is a set of instructions on how to turn a set of ingredients into that honey mustard masterpiece.**\n",
        "\n",
        "**What makes a machine learning algorithm different is instead of having the set of instructions, you start with the ingredients and the final dish ready to go. The machine learning algorithm then looks at the ingredients and the final dish and works out the set of instructions.**\n",
        "\n",
        "**There are many different types of machine learning algorithms and some perform better than others on different problems. But the premise remains, they all have the goal of finding patterns or sets of instructions in data.**\n",
        "\n",
        "- **Deployment - Deployment is taking your set of instructions and using it in an application. This application could be anything from recommending products to customers on your online store to a hospital trying to better predict disease presence.**\n",
        "\n",
        "**This article focuses on data modelling. It assumes you have already collected data, and are looking to build a machine learning proof of concept with it. Let's break down how you might approach it.👇🏼**"
      ],
      "metadata": {
        "id": "t9TrPud2iLem"
      }
    },
    {
      "cell_type": "markdown",
      "source": [
        "![My Image](https://github.com/mrdbourke/zero-to-mastery-ml/blob/master/images/ml101-6-step-ml-framework.png?raw=true)\n"
      ],
      "metadata": {
        "id": "VTYsr8qrIIfI"
      }
    },
    {
      "cell_type": "markdown",
      "source": [
        "1.  **Problem definition - What business problem are we trying to solve? How can it\n",
        "be phrased as a machine learning problem?**\n",
        "\n",
        "2. **Data - If machine learning is getting insights out of data, what data we have? How does it match the problem definition? Is our data structured or unstructured? Static or streaming?**\n",
        "\n",
        "3. **Evaluation - What definition is a 95% accurate machine learning model good enough?**\n",
        "\n",
        "4. **Features - What part of our data are we going to use for our model? how can what we already know influence this?**\n",
        "\n",
        "5. **Modelling - Which model should you choose? How can you imporove it? How  do you compare it with other models?**\n",
        "\n",
        "6. **Experimentation - What else could we try? Does our deployed model do as we expected?  How do the other steps change based on what we've found?**\n",
        "\n",
        "\n",
        "**Let's dive a little deeper in each.**"
      ],
      "metadata": {
        "id": "c6XBqU91uYvg"
      }
    },
    {
      "cell_type": "markdown",
      "source": [
        "# **1. Problem definition - Rephrase your business problem as a machine learing problem.**"
      ],
      "metadata": {
        "id": "KvYIelVOx_3j"
      }
    },
    {
      "cell_type": "markdown",
      "source": [
        "**To help decide whether or not your business could use machine learning, the first step is to match the business problem you're trying to solve a machine learning problem.**\n",
        "\n",
        "**The four major types of machine learning are supervised learning, unsupervised learning, transfer learning and reinforcement learning (there's semi-supervised as well but i've left it out for brevity). The three most used in business applications are supervised learning,unsupervised learning and transfer learning.**"
      ],
      "metadata": {
        "id": "KP7BTSGzzI7m"
      }
    },
    {
      "cell_type": "markdown",
      "source": [
        "# **Supervised learning -**"
      ],
      "metadata": {
        "id": "niRNjHfpzz83"
      }
    },
    {
      "cell_type": "markdown",
      "source": [
        "**Supervised learning, is called supervised because you have data and lablels. A machine learning algorithm tries to learn what patterns in the data lead to the labels. The supervised part happens during training. If the algorithm guesses a wrong label. it tries to correct itself.**\n",
        "\n",
        "**For example. if you were trying to predict heart disease in a new patient. You may have a anonymised medical records of 100 patients as the data and whether or not they had heart disease as the label.**\n",
        "\n",
        "**A machine learning algorithm could look at the medical records (inputs) and whether or not a patient had heart disease (output) and then figure out what patterns in the medial records lead to heart disease.**\n",
        "\n",
        "**Once you've got the trained algorithm you could pass through the medial recoreds (input) of a new patient through it and get a predictioni of whether or not they have heart disease(output) It's important to remember this prediction isn't certain. It comes back as a probability.**\n",
        "\n",
        "**The algorithm says, \"based on what i've seen before, it looks like this new patients medial records are 70% aligned to those who have heart disease.\"**"
      ],
      "metadata": {
        "id": "Jtuj2oEyz67C"
      }
    },
    {
      "cell_type": "markdown",
      "source": [
        "# **Unsupervised learning-**"
      ],
      "metadata": {
        "id": "mfZ28O2s2NcV"
      }
    },
    {
      "cell_type": "markdown",
      "source": [
        "**Unsupervised learning is when you have data but not labels. The data could be a the purchase history of your online video game store customesr. Using this data, you may want to group similar customers together so you can offer them specialised deals. You could use a machine learning algorithm to group your customers by purchase history.**\n",
        "\n",
        "\n",
        "**After inspecting the groups, you provide the labels. There may be a group interested in computer games, another group who prefer console games and another which only buy discounted older games.This is called clustering.**\n",
        "\n",
        "**What's important to remember here is the algorithm did not provide these labels. It found the patterns between similar customers and using your domain knowledge, you provided the labels.**"
      ],
      "metadata": {
        "id": "5_7KETgM2Q9j"
      }
    },
    {
      "cell_type": "markdown",
      "source": [
        "# **Transfer learning-**"
      ],
      "metadata": {
        "id": "kMg1j6YB4vBS"
      }
    },
    {
      "cell_type": "markdown",
      "source": [
        "**Transfer leaning is when you take the information an existing machine learning model has learned and adjust it to your own problem.**\n",
        "\n",
        "**Training a machine learning model from  scratch can be  expensive and time-consuming.The good news is, you don't always have to. When machine learning algorithms find patterns in one kind of data, these patterns can be used in another type of data.**\n",
        "\n",
        "**Let's say you're a care insurance company and wanted to build a text classification model to classify whether or not somone submitting an insurance claim for a car accident is at fault (caused the accident) or not at fault (didn't cause the accident).**\n",
        "\n",
        "**You could start with an existing text model, one which has read all  of Wikipedia and has remembered alll the patterns between different words, sucha as, which word is more likely to come next after another. Then using your car insurance claims (data) along with their outcomes (labels), you could tweak the exiting text model to your own problem.**\n",
        "\n",
        "**If machine learning can be used in your business, it's likely it'll fall under opne of these three types of learning. But let's break them down further into classification, regressioni and recommendation.**\n",
        "\n",
        "\n",
        "- **Classification -- Do you want to predict whether something is one thing or another? Such as whether a customer will churn or not churn? Or whether a patient has heart disease or not? Note, there can be more than two things. Two classes is called binary classification,more than two classes is called multi-class classification. Multi-label is when an item can belong to more than one class.**\n",
        "\n",
        "\n",
        "- **Regression -- Do you want to predict a specific number of someting?\n",
        "Such as how much a house will sell for? Or how many customers will visit your site next month?**\n",
        "\n",
        "- **Recommendation -- Do you want to recommend something to someone? Such as products to by based on their previous purchases? Or articles to read based on their reading history?**\n"
      ],
      "metadata": {
        "id": "MuS-8Ucf4yJa"
      }
    },
    {
      "cell_type": "markdown",
      "source": [
        "**How you know this things. your next step is to define your business problem in machine learning terms.**\n",
        "\n",
        "**Let's use the car insurance example from before. You receive thousands of claims per day which your staff read and decide whether  or not ther person sending ini the claim is at fault or not.**\n",
        "\n",
        "**But now the number of claims are starting to come in faster than your staff can handle them. You've got thousands of examples of past claims which are labelled at fault or not at falt.**\n",
        "\n",
        "**Can machine learning help?**\n",
        "\n",
        "**You already know the answer. But let's see. Does this problem fit into any of the three above? Classification regression or recommendation?**\n",
        "\n",
        "**Let's rephrase it.**\n",
        "\n",
        "\n",
        "**See the keyword? Classify.**\n",
        "\n",
        "**It turns out, this could pontentially be a machine learning classification problem. I say potentially because there's a chance it might not work.**\n",
        "\n",
        "**When it comes to defining your business problem as a machine learning problem, start simple, more than one sentence is too much. Add complexity when required.**"
      ],
      "metadata": {
        "id": "5pXiW_p58zyp"
      }
    },
    {
      "cell_type": "markdown",
      "source": [
        "# **2. Data - If machine learning is getting insigth out of data, what data do we have?**"
      ],
      "metadata": {
        "id": "FzF4IrJI_yGO"
      }
    },
    {
      "cell_type": "markdown",
      "source": [
        "**The data do you have and need to collect will depend on your problem you want to solve**\n",
        "\n",
        "**If you already have a data,it's likey it will be one of two forms, Structured or unstructured. Within each of these, you have static or streaming data.**\n",
        "\n",
        "\n",
        "- **Structured data -- Think a table of rows and columns,an excel spreadsheet of customer transactions,a dataset of patient records, columns can be numerical such as a average heart rate,categorical,such as sex,or ordinal,such as chest pain intensity.**\n",
        "\n",
        "\n",
        "- **Unstructured data --Anything not able to be put into rows and column format image,audio file, natural language text.**\n",
        "\n",
        "- **Static data -- Existing historical data which is unlikely to change Your companies purchase history is good examle.**\n",
        "\n",
        "\n",
        "- **Streaming data --Data which is constantly updated,older recored may be changed, newer record are constantly being added.**"
      ],
      "metadata": {
        "id": "vcgxTpb8ADF5"
      }
    },
    {
      "cell_type": "markdown",
      "source": [
        "**There are overlaps:**"
      ],
      "metadata": {
        "id": "ZD-NqFpnC2xV"
      }
    },
    {
      "cell_type": "markdown",
      "source": [
        "**Your static structured table of information may have columns which contaion natural language text and photos and be updated  constantly.**\n",
        "\n",
        "**for the insurance claim example, one column may be the text a customer has sent in for the claim, another may be the image they've sent in  along with the text and a final a column being the outcome of the claim. This table gets updated with new claims or altered result of old claims daily.**"
      ],
      "metadata": {
        "id": "ZT4--e4_C_ZL"
      }
    },
    {
      "cell_type": "markdown",
      "source": [
        "![My Image](https://github.com/mrdbourke/zero-to-mastery-ml/blob/master/images/ml101-two-data-tables.png?raw=true)\n"
      ],
      "metadata": {
        "id": "93FrxHUaETU7"
      }
    },
    {
      "cell_type": "markdown",
      "source": [
        "![My Image](https://github.com/mrdbourke/zero-to-mastery-ml/raw/master/images/ml101-different-data-types.png)\n"
      ],
      "metadata": {
        "id": "SaYUwUyzVmb6"
      }
    },
    {
      "cell_type": "markdown",
      "source": [
        "**for unsupervised learning you won't have labels but you'll still want to find patters, Meaning,grouping together similar samples and finding samples which are outliers.**\n",
        "\n",
        "**For transfer learning, your problem says supervised learning problem,expect your are leveraging the patterns machine learning algorithm have learned from other data sources seperate from  your own.**\n",
        "\n",
        "**Rememeber if you are using a customer data to improve your business problem or to offer them  a better service, it's important to let them know  this is why you see  \"This site use cookies\" popus everywhere . The website use how you browse the site, likely along with some kind of machine learning to improve their offering.**"
      ],
      "metadata": {
        "id": "rSnuDFycWej3"
      }
    },
    {
      "cell_type": "markdown",
      "source": [
        "# **3.Evaluation -- What defines success? Is a 95% accurate machine leaning model good enough.**"
      ],
      "metadata": {
        "id": "dlUp3Hb3Ysmi"
      }
    },
    {
      "cell_type": "markdown",
      "source": [
        "**A 95% accurate  model  may sound pretty good  for prediction who's at fault in an insurance  claim. But for predicting heart disease. You'll likely want better result.**\n",
        "\n",
        "- **Mean absolute error(MAE) -- The average difference between your model prediction and actual numbers.**\n",
        "- **Root mean absolute error(RMSE) --  The square root of average of square differences between  your model's prediction and actual numbers.**"
      ],
      "metadata": {
        "id": "-muu0HN3ZR72"
      }
    },
    {
      "cell_type": "markdown",
      "source": [
        "#  **4. Feartures - What features does your data have and which can you see to built your model ?**"
      ],
      "metadata": {
        "id": "gbaBg6RWIB_8"
      }
    },
    {
      "cell_type": "markdown",
      "source": [
        "** Not all data is the same and when you hear someone referring to features,they're referring to different kind of data within data.**\n",
        "\n",
        "** The three main types of features  are categorical contunue (or numerical)  and derived.**\n",
        "\n",
        "- **Categorical features -- One or the (others) for example in your heart disease problem, the sex of the patient, Or for an online store whether or not someone has made a purchase or not.**\n",
        "\n",
        "- **Continuous (or numerical) features — A numerical value such as average heart rate or the number of times logged in. Derived features — Features you create from the data. Often referred to as feature engineering. Feature engineering is how a subject matter expert takes their knowledge and encodes it into the data. You might combine the number of times logged in with timestamps to make a feature called time since last login. Or turn dates from numbers into “is a weekday (yes)” and “is a weekday (no)”.**\n",
        "\n",
        "**Text, images and almost anything you can imagine can also be a feature. Regardless, they all get turned into numbers before a machine learning algorithm can model them.**\n",
        "\n",
        "\n",
        "**Some important things to remember when it comes to features.**\n",
        "\n",
        "- **Keep them the same during experimentation (training) and production (testing) — A machine learning model should be trained on features which represent as close as possible to what it will be used for in a real system.**\n",
        "- **Work with subject matter experts — What do you already know about the problem, how can that influence what features you use? Let your machine learning engineers and data scientists know this.**\n",
        "-**Are they worth it? — If only 10% of your samples have a feature, is it worth incorporating it in a model? Have a preference for features with the most coverage. The ones where lots of samples have data for.**\n",
        "- **Perfect equals broken — If your model is achieving perfect performance, you’ve likely got feature leakage somewhere. Which means the data your model has trained on is being used to test it. No model is perfect.**\n",
        "\n",
        "**You can use features to create a simple baseline metric. A subject matter expert on customer churn may know someone is 80% likely to cancel their membership after 3 weeks of not logging in.**\n",
        "\n",
        "**Or a real estate agent who knows the sale prices of houses might know houses with over 5 bedrooms and 4 bathrooms sell for over $500,000.**\n",
        "\n",
        "**These are simplified and don’t have to be exact. But it’s what you’re going to use to see whether machine learning can improve upon or not.**|"
      ],
      "metadata": {
        "id": "-AQV9Vb7IizS"
      }
    },
    {
      "cell_type": "markdown",
      "source": [
        "# **5. Modelling — Which model should you choose? How can you improve it? How do you compare it with other models?**"
      ],
      "metadata": {
        "id": "HipXDmdGLHD7"
      }
    },
    {
      "cell_type": "markdown",
      "source": [
        "**Once you’ve defined your problem, prepared your data, evaluation criteria and features it’s time to model.**\n",
        "\n",
        "**Modelling breaks into three parts, choosing a model, improving a model, comparing it with others.**\n",
        "\n",
        "# **Choosing a model:**\n",
        "**When choosing a model, you’ll want to take into consideration, interpretability and ease to debug, amount of data, training and prediction limitations**\n",
        "\n",
        "- **Interpretability and ease to debug — Why did a model make a decision it made? How can the errors be fixed?**\n",
        "- **Amount of data — How much data do you have? Will this change?**\n",
        "- **Training and prediction limitations — This ties in with the above, how much time and resources do you have for training and prediction?**\n",
        "\n",
        "**To address these, start simple. A state of the art model can be tempting to reach for. But if it requires 10x the compute resources to train and prediction times are 5x longer for a 2% boost in your evaluation metric, it might not be the best choice.**\n",
        "\n",
        "**Linear models such as logistic regression are usually easier to interpret, are very fast for training and predict faster than deeper models such as neural networks.**\n",
        "\n",
        "**But it’s likely your data is from the real world. Data from the real world isn’t always linear.**\n",
        "\n",
        "**What then?**\n",
        "\n",
        "**Ensembles of decision trees and gradient boosted algorithms (fancy words, definitions not important for now) usually work best on structured data, like Excel tables and dataframes**"
      ],
      "metadata": {
        "id": "VKG99UPALNbs"
      }
    },
    {
      "cell_type": "markdown",
      "source": [
        "![My image](https://github.com/mrdbourke/zero-to-mastery-ml/blob/master/images/ml101-6-step-ml-framework-tools.png?raw=true)"
      ],
      "metadata": {
        "id": "4PqpHLWxMTYw"
      }
    },
    {
      "cell_type": "markdown",
      "source": [
        "**Deep models such as neural networks generally work best on unstructured data like images, audio files and natural language text. However, the trade-off is they usually take longer to train, are harder to debug and prediction time takes longer. But this doesn’t mean you shouldn’t use them.**\n",
        "\n",
        "**Transfer learning is an approach which takes advantage of deep models and linear models. It involves taking a pre-trained deep model and using the patterns it has learned as the inputs to your linear model. This saves dramatically on training time and allows you to experiment faster.**\n",
        "\n",
        "**Where do I find pre-trained models?**\n",
        "\n",
        "**Pre-trained models are available on PyTorch hub, TensorFlow hub, model zoo and within the fast.ai framework. This is a good place to look first for building any kind of proof of concept.**\n",
        "\n",
        "**What about the other kinds of models?**\n",
        "\n",
        "**For building a proof of concept, it’s unlikely you’ll have to ever build your own machine learning model. People have already written code for these.**\n",
        "\n",
        "**What you’ll be focused on is preparing your inputs and outputs in a way they can be used with an existing model. This means having your data and labels strictly defined and understanding what problem you’re trying to solve.**\n",
        "\n",
        "# **Tuning and improving a model**\n",
        "\n",
        "**A model's first results isn’t its last. Like tuning a car, machine learning models can be tuned to improve performance.**\n",
        "\n",
        "**Tuning a model involves changing hyperparameters such as learning rate or optimizer. Or model-specific architecture factors such as number of trees for random forests and number of and type of layers for neural networks.**\n",
        "\n",
        "**These used to be something a practitioner would have to tune by hand but are increasingly becoming automated. And should be wherever possible.**\n",
        "\n",
        "**Using a pre-trained model through transfer learning often has the added benefit of all of these steps been done.**\n",
        "\n",
        "**The priority for tuning and improving models should be reproducibility and efficiency. Someone should be able to reproduce the steps you’ve taken to improve performance. And because your main bottleneck will be model training time, not new ideas to improve, your efforts should be dedicated towards efficiency.**\n",
        "\n",
        "# **Comparing models**\n",
        "\n",
        "**Compare apples to apples.**\n",
        "\n",
        "- **Model 1, trained on data X, evaluated on data Y.**\n",
        "- **Model 2, trained on data X, evaluated on data Y.**\n",
        "\n",
        "**Where model 1 and 2 can vary but not data X or data Y.**\n",
        "\n"
      ],
      "metadata": {
        "id": "SyCUCCcdM9EI"
      }
    },
    {
      "cell_type": "markdown",
      "source": [
        "# **6. Experimentation — What else could we try? How do the other steps change based on what we’ve found? Does our deployed model do as we expected?**"
      ],
      "metadata": {
        "id": "6BH_5vAROJsY"
      }
    },
    {
      "cell_type": "markdown",
      "source": [
        "**This step involves all the other steps. Because machine learning is a highly iterative process, you’ll want to make sure your experiments are actionable.**\n",
        "\n",
        "**Your biggest goal should be minimising the time between offline experiments and online experiments.**\n",
        "\n",
        "**Offline experiments are steps you take when your project isn’t customer-facing yet. Online experiments happen when your machine learning model is in production.**\n",
        "\n",
        "**All experiments should be conducted on different portions of your data.**\n",
        "\n",
        "- **Training data set — Use this set for model training, 70–80% of your data is the standard.**\n",
        "- **Validation/development data set — Use this set for model tuning, 10–15% of your data is the standard.**\n",
        "- **Test data set — Use this set for model testing and comparison, 10–15% of your data is the standard.**\n",
        "\n",
        "**These amounts can fluctuate slightly, depending on your problem and the data you have.**\n",
        "\n",
        "**Poor performance on training data means the model hasn’t learned properly. Try a different model, improve the existing one, collect more data, collect better data.**\n",
        "\n",
        "**Poor performance on test data means your model doesn’t generalise well. Your model may be overfitting the training data. Use a simpler model or collect more data**\n",
        "\n",
        "**Poor performance once deployed (in the real world) means there’s a difference in what you trained and tested your model on and what is actually happening. Revisit step 1 & 2. Ensure your data matches up with the problem you’re trying to solve.**\n",
        "\n",
        "**When you implement a large experimental change, document what and why. Remember, like model tuning, someone, including your future self, should be able to reproduce what you’ve done.**\n",
        "\n",
        "**This means saving updated models and updated datasets regularly.**\n",
        "\n",
        "# **Putting it together in a proof of concept**\n",
        "\n",
        "**Many businesses have heard of machine learning but aren’t sure where to start. One of the best places to start is to use the six steps above to build a proof of concept.**\n",
        "\n",
        "**A proof of concept should not be seen as something to fundamentally change how your business operates but as an exploration into whether machine learning can bring your business value.**\n",
        "\n",
        "**After all, you’re not after fancy solutions to keep up with the hype. You’re after solutions which add value.**\n",
        "\n",
        "**Put a timeline on a proof of concept, 2, 6 and 12 weeks are good amounts. With good data, a good machine learning and data science practitioner can get 80–90% of the final modelling results in a relatively small timeframe.**\n",
        "\n",
        "**Have your subject matter experts and machine learning engineers and data scientists work together. There is nothing worse than a machine learning engineer building a great model which models the wrong thing.**\n",
        "\n",
        "**If a web designer could improve the layout of an online store to help a machine learning experiment, they should know.**\n",
        "\n",
        "**Remember, due to the nature of proof of concepts, it may turn out machine learning isn’t something your business can take advantage of (unlikely). As a project manager, ensure you’re aware of this. If you are a machine learning engineer or data scientist, be willing to accept your conclusions lead nowhere.**\n",
        "\n",
        "**But all is not lost.**\n",
        "\n",
        "**The value in something not working is now you know what doesn’t work and can direct your efforts elsewhere. This is why setting a timeframe for experiments is helpful. There is never enough time but deadlines work wonders.**\n",
        "\n",
        "**If a machine learning proof of concept turns out well, take another step, if not, step back. Learning by doing is a faster process than thinking about something.**"
      ],
      "metadata": {
        "id": "w9vnj6lYOPMG"
      }
    }
  ]
}