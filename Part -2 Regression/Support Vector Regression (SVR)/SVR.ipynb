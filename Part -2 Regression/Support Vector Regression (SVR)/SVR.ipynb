{
  "nbformat": 4,
  "nbformat_minor": 0,
  "metadata": {
    "colab": {
      "provenance": []
    },
    "kernelspec": {
      "name": "python3",
      "display_name": "Python 3"
    },
    "language_info": {
      "name": "python"
    }
  },
  "cells": [
    {
      "cell_type": "markdown",
      "source": [
        "# **Support Vector Regression:**![support-vector-machine-algorithm.png](data:image/png;base64,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)"
      ],
      "metadata": {
        "id": "JVtWM_Hm8y06"
      }
    },
    {
      "cell_type": "markdown",
      "source": [
        "**SVR stands for support vector regression. The basic idea behind the support vector regression is find the best fit line. Unlike other regression model try to minimize the error between real and predicted value but SVR try to find the best fit line within the thresold. The thresold value is the distance between the hyperplane and boundry line.:**"
      ],
      "metadata": {
        "id": "-eBIbT-483F5"
      }
    },
    {
      "cell_type": "markdown",
      "source": [
        "# **Importing libraries:**"
      ],
      "metadata": {
        "id": "kSNa8xLA90LT"
      }
    },
    {
      "cell_type": "code",
      "execution_count": 99,
      "metadata": {
        "id": "lm-vXCyc6g4_"
      },
      "outputs": [],
      "source": [
        "import numpy as np\n",
        "import pandas as pd\n",
        "from matplotlib  import pyplot as plt\n",
        "import seaborn as sns"
      ]
    },
    {
      "cell_type": "markdown",
      "source": [
        "# **Loading the dataset:**"
      ],
      "metadata": {
        "id": "UrWfkvbH-Cpg"
      }
    },
    {
      "cell_type": "code",
      "source": [
        "data = pd.read_csv(\"Position_Salaries.csv\")"
      ],
      "metadata": {
        "id": "29Zj7LQt9_Rg"
      },
      "execution_count": 100,
      "outputs": []
    },
    {
      "cell_type": "code",
      "source": [
        "data"
      ],
      "metadata": {
        "colab": {
          "base_uri": "https://localhost:8080/",
          "height": 363
        },
        "id": "ZVNmnGq5-P4m",
        "outputId": "7f10a310-01a6-47af-ab1e-26368a4dcc44"
      },
      "execution_count": 101,
      "outputs": [
        {
          "output_type": "execute_result",
          "data": {
            "text/plain": [
              "            Position  Level   Salary\n",
              "0   Business Analyst      1    45000\n",
              "1  Junior Consultant      2    50000\n",
              "2  Senior Consultant      3    60000\n",
              "3            Manager      4    80000\n",
              "4    Country Manager      5   110000\n",
              "5     Region Manager      6   150000\n",
              "6            Partner      7   200000\n",
              "7     Senior Partner      8   300000\n",
              "8            C-level      9   500000\n",
              "9                CEO     10  1000000"
            ],
            "text/html": [
              "\n",
              "  <div id=\"df-4513eed8-1573-42de-8a4e-dee412c09dd0\" class=\"colab-df-container\">\n",
              "    <div>\n",
              "<style scoped>\n",
              "    .dataframe tbody tr th:only-of-type {\n",
              "        vertical-align: middle;\n",
              "    }\n",
              "\n",
              "    .dataframe tbody tr th {\n",
              "        vertical-align: top;\n",
              "    }\n",
              "\n",
              "    .dataframe thead th {\n",
              "        text-align: right;\n",
              "    }\n",
              "</style>\n",
              "<table border=\"1\" class=\"dataframe\">\n",
              "  <thead>\n",
              "    <tr style=\"text-align: right;\">\n",
              "      <th></th>\n",
              "      <th>Position</th>\n",
              "      <th>Level</th>\n",
              "      <th>Salary</th>\n",
              "    </tr>\n",
              "  </thead>\n",
              "  <tbody>\n",
              "    <tr>\n",
              "      <th>0</th>\n",
              "      <td>Business Analyst</td>\n",
              "      <td>1</td>\n",
              "      <td>45000</td>\n",
              "    </tr>\n",
              "    <tr>\n",
              "      <th>1</th>\n",
              "      <td>Junior Consultant</td>\n",
              "      <td>2</td>\n",
              "      <td>50000</td>\n",
              "    </tr>\n",
              "    <tr>\n",
              "      <th>2</th>\n",
              "      <td>Senior Consultant</td>\n",
              "      <td>3</td>\n",
              "      <td>60000</td>\n",
              "    </tr>\n",
              "    <tr>\n",
              "      <th>3</th>\n",
              "      <td>Manager</td>\n",
              "      <td>4</td>\n",
              "      <td>80000</td>\n",
              "    </tr>\n",
              "    <tr>\n",
              "      <th>4</th>\n",
              "      <td>Country Manager</td>\n",
              "      <td>5</td>\n",
              "      <td>110000</td>\n",
              "    </tr>\n",
              "    <tr>\n",
              "      <th>5</th>\n",
              "      <td>Region Manager</td>\n",
              "      <td>6</td>\n",
              "      <td>150000</td>\n",
              "    </tr>\n",
              "    <tr>\n",
              "      <th>6</th>\n",
              "      <td>Partner</td>\n",
              "      <td>7</td>\n",
              "      <td>200000</td>\n",
              "    </tr>\n",
              "    <tr>\n",
              "      <th>7</th>\n",
              "      <td>Senior Partner</td>\n",
              "      <td>8</td>\n",
              "      <td>300000</td>\n",
              "    </tr>\n",
              "    <tr>\n",
              "      <th>8</th>\n",
              "      <td>C-level</td>\n",
              "      <td>9</td>\n",
              "      <td>500000</td>\n",
              "    </tr>\n",
              "    <tr>\n",
              "      <th>9</th>\n",
              "      <td>CEO</td>\n",
              "      <td>10</td>\n",
              "      <td>1000000</td>\n",
              "    </tr>\n",
              "  </tbody>\n",
              "</table>\n",
              "</div>\n",
              "    <div class=\"colab-df-buttons\">\n",
              "\n",
              "  <div class=\"colab-df-container\">\n",
              "    <button class=\"colab-df-convert\" onclick=\"convertToInteractive('df-4513eed8-1573-42de-8a4e-dee412c09dd0')\"\n",
              "            title=\"Convert this dataframe to an interactive table.\"\n",
              "            style=\"display:none;\">\n",
              "\n",
              "  <svg xmlns=\"http://www.w3.org/2000/svg\" height=\"24px\" viewBox=\"0 -960 960 960\">\n",
              "    <path d=\"M120-120v-720h720v720H120Zm60-500h600v-160H180v160Zm220 220h160v-160H400v160Zm0 220h160v-160H400v160ZM180-400h160v-160H180v160Zm440 0h160v-160H620v160ZM180-180h160v-160H180v160Zm440 0h160v-160H620v160Z\"/>\n",
              "  </svg>\n",
              "    </button>\n",
              "\n",
              "  <style>\n",
              "    .colab-df-container {\n",
              "      display:flex;\n",
              "      gap: 12px;\n",
              "    }\n",
              "\n",
              "    .colab-df-convert {\n",
              "      background-color: #E8F0FE;\n",
              "      border: none;\n",
              "      border-radius: 50%;\n",
              "      cursor: pointer;\n",
              "      display: none;\n",
              "      fill: #1967D2;\n",
              "      height: 32px;\n",
              "      padding: 0 0 0 0;\n",
              "      width: 32px;\n",
              "    }\n",
              "\n",
              "    .colab-df-convert:hover {\n",
              "      background-color: #E2EBFA;\n",
              "      box-shadow: 0px 1px 2px rgba(60, 64, 67, 0.3), 0px 1px 3px 1px rgba(60, 64, 67, 0.15);\n",
              "      fill: #174EA6;\n",
              "    }\n",
              "\n",
              "    .colab-df-buttons div {\n",
              "      margin-bottom: 4px;\n",
              "    }\n",
              "\n",
              "    [theme=dark] .colab-df-convert {\n",
              "      background-color: #3B4455;\n",
              "      fill: #D2E3FC;\n",
              "    }\n",
              "\n",
              "    [theme=dark] .colab-df-convert:hover {\n",
              "      background-color: #434B5C;\n",
              "      box-shadow: 0px 1px 3px 1px rgba(0, 0, 0, 0.15);\n",
              "      filter: drop-shadow(0px 1px 2px rgba(0, 0, 0, 0.3));\n",
              "      fill: #FFFFFF;\n",
              "    }\n",
              "  </style>\n",
              "\n",
              "    <script>\n",
              "      const buttonEl =\n",
              "        document.querySelector('#df-4513eed8-1573-42de-8a4e-dee412c09dd0 button.colab-df-convert');\n",
              "      buttonEl.style.display =\n",
              "        google.colab.kernel.accessAllowed ? 'block' : 'none';\n",
              "\n",
              "      async function convertToInteractive(key) {\n",
              "        const element = document.querySelector('#df-4513eed8-1573-42de-8a4e-dee412c09dd0');\n",
              "        const dataTable =\n",
              "          await google.colab.kernel.invokeFunction('convertToInteractive',\n",
              "                                                    [key], {});\n",
              "        if (!dataTable) return;\n",
              "\n",
              "        const docLinkHtml = 'Like what you see? Visit the ' +\n",
              "          '<a target=\"_blank\" href=https://colab.research.google.com/notebooks/data_table.ipynb>data table notebook</a>'\n",
              "          + ' to learn more about interactive tables.';\n",
              "        element.innerHTML = '';\n",
              "        dataTable['output_type'] = 'display_data';\n",
              "        await google.colab.output.renderOutput(dataTable, element);\n",
              "        const docLink = document.createElement('div');\n",
              "        docLink.innerHTML = docLinkHtml;\n",
              "        element.appendChild(docLink);\n",
              "      }\n",
              "    </script>\n",
              "  </div>\n",
              "\n",
              "\n",
              "<div id=\"df-c7fdb9e9-69c7-4534-92f5-01336142a8b1\">\n",
              "  <button class=\"colab-df-quickchart\" onclick=\"quickchart('df-c7fdb9e9-69c7-4534-92f5-01336142a8b1')\"\n",
              "            title=\"Suggest charts\"\n",
              "            style=\"display:none;\">\n",
              "\n",
              "<svg xmlns=\"http://www.w3.org/2000/svg\" height=\"24px\"viewBox=\"0 0 24 24\"\n",
              "     width=\"24px\">\n",
              "    <g>\n",
              "        <path d=\"M19 3H5c-1.1 0-2 .9-2 2v14c0 1.1.9 2 2 2h14c1.1 0 2-.9 2-2V5c0-1.1-.9-2-2-2zM9 17H7v-7h2v7zm4 0h-2V7h2v10zm4 0h-2v-4h2v4z\"/>\n",
              "    </g>\n",
              "</svg>\n",
              "  </button>\n",
              "\n",
              "<style>\n",
              "  .colab-df-quickchart {\n",
              "      --bg-color: #E8F0FE;\n",
              "      --fill-color: #1967D2;\n",
              "      --hover-bg-color: #E2EBFA;\n",
              "      --hover-fill-color: #174EA6;\n",
              "      --disabled-fill-color: #AAA;\n",
              "      --disabled-bg-color: #DDD;\n",
              "  }\n",
              "\n",
              "  [theme=dark] .colab-df-quickchart {\n",
              "      --bg-color: #3B4455;\n",
              "      --fill-color: #D2E3FC;\n",
              "      --hover-bg-color: #434B5C;\n",
              "      --hover-fill-color: #FFFFFF;\n",
              "      --disabled-bg-color: #3B4455;\n",
              "      --disabled-fill-color: #666;\n",
              "  }\n",
              "\n",
              "  .colab-df-quickchart {\n",
              "    background-color: var(--bg-color);\n",
              "    border: none;\n",
              "    border-radius: 50%;\n",
              "    cursor: pointer;\n",
              "    display: none;\n",
              "    fill: var(--fill-color);\n",
              "    height: 32px;\n",
              "    padding: 0;\n",
              "    width: 32px;\n",
              "  }\n",
              "\n",
              "  .colab-df-quickchart:hover {\n",
              "    background-color: var(--hover-bg-color);\n",
              "    box-shadow: 0 1px 2px rgba(60, 64, 67, 0.3), 0 1px 3px 1px rgba(60, 64, 67, 0.15);\n",
              "    fill: var(--button-hover-fill-color);\n",
              "  }\n",
              "\n",
              "  .colab-df-quickchart-complete:disabled,\n",
              "  .colab-df-quickchart-complete:disabled:hover {\n",
              "    background-color: var(--disabled-bg-color);\n",
              "    fill: var(--disabled-fill-color);\n",
              "    box-shadow: none;\n",
              "  }\n",
              "\n",
              "  .colab-df-spinner {\n",
              "    border: 2px solid var(--fill-color);\n",
              "    border-color: transparent;\n",
              "    border-bottom-color: var(--fill-color);\n",
              "    animation:\n",
              "      spin 1s steps(1) infinite;\n",
              "  }\n",
              "\n",
              "  @keyframes spin {\n",
              "    0% {\n",
              "      border-color: transparent;\n",
              "      border-bottom-color: var(--fill-color);\n",
              "      border-left-color: var(--fill-color);\n",
              "    }\n",
              "    20% {\n",
              "      border-color: transparent;\n",
              "      border-left-color: var(--fill-color);\n",
              "      border-top-color: var(--fill-color);\n",
              "    }\n",
              "    30% {\n",
              "      border-color: transparent;\n",
              "      border-left-color: var(--fill-color);\n",
              "      border-top-color: var(--fill-color);\n",
              "      border-right-color: var(--fill-color);\n",
              "    }\n",
              "    40% {\n",
              "      border-color: transparent;\n",
              "      border-right-color: var(--fill-color);\n",
              "      border-top-color: var(--fill-color);\n",
              "    }\n",
              "    60% {\n",
              "      border-color: transparent;\n",
              "      border-right-color: var(--fill-color);\n",
              "    }\n",
              "    80% {\n",
              "      border-color: transparent;\n",
              "      border-right-color: var(--fill-color);\n",
              "      border-bottom-color: var(--fill-color);\n",
              "    }\n",
              "    90% {\n",
              "      border-color: transparent;\n",
              "      border-bottom-color: var(--fill-color);\n",
              "    }\n",
              "  }\n",
              "</style>\n",
              "\n",
              "  <script>\n",
              "    async function quickchart(key) {\n",
              "      const quickchartButtonEl =\n",
              "        document.querySelector('#' + key + ' button');\n",
              "      quickchartButtonEl.disabled = true;  // To prevent multiple clicks.\n",
              "      quickchartButtonEl.classList.add('colab-df-spinner');\n",
              "      try {\n",
              "        const charts = await google.colab.kernel.invokeFunction(\n",
              "            'suggestCharts', [key], {});\n",
              "      } catch (error) {\n",
              "        console.error('Error during call to suggestCharts:', error);\n",
              "      }\n",
              "      quickchartButtonEl.classList.remove('colab-df-spinner');\n",
              "      quickchartButtonEl.classList.add('colab-df-quickchart-complete');\n",
              "    }\n",
              "    (() => {\n",
              "      let quickchartButtonEl =\n",
              "        document.querySelector('#df-c7fdb9e9-69c7-4534-92f5-01336142a8b1 button');\n",
              "      quickchartButtonEl.style.display =\n",
              "        google.colab.kernel.accessAllowed ? 'block' : 'none';\n",
              "    })();\n",
              "  </script>\n",
              "</div>\n",
              "\n",
              "  <div id=\"id_5e505820-7f6c-4277-94c3-5ef37c8719cb\">\n",
              "    <style>\n",
              "      .colab-df-generate {\n",
              "        background-color: #E8F0FE;\n",
              "        border: none;\n",
              "        border-radius: 50%;\n",
              "        cursor: pointer;\n",
              "        display: none;\n",
              "        fill: #1967D2;\n",
              "        height: 32px;\n",
              "        padding: 0 0 0 0;\n",
              "        width: 32px;\n",
              "      }\n",
              "\n",
              "      .colab-df-generate:hover {\n",
              "        background-color: #E2EBFA;\n",
              "        box-shadow: 0px 1px 2px rgba(60, 64, 67, 0.3), 0px 1px 3px 1px rgba(60, 64, 67, 0.15);\n",
              "        fill: #174EA6;\n",
              "      }\n",
              "\n",
              "      [theme=dark] .colab-df-generate {\n",
              "        background-color: #3B4455;\n",
              "        fill: #D2E3FC;\n",
              "      }\n",
              "\n",
              "      [theme=dark] .colab-df-generate:hover {\n",
              "        background-color: #434B5C;\n",
              "        box-shadow: 0px 1px 3px 1px rgba(0, 0, 0, 0.15);\n",
              "        filter: drop-shadow(0px 1px 2px rgba(0, 0, 0, 0.3));\n",
              "        fill: #FFFFFF;\n",
              "      }\n",
              "    </style>\n",
              "    <button class=\"colab-df-generate\" onclick=\"generateWithVariable('data')\"\n",
              "            title=\"Generate code using this dataframe.\"\n",
              "            style=\"display:none;\">\n",
              "\n",
              "  <svg xmlns=\"http://www.w3.org/2000/svg\" height=\"24px\"viewBox=\"0 0 24 24\"\n",
              "       width=\"24px\">\n",
              "    <path d=\"M7,19H8.4L18.45,9,17,7.55,7,17.6ZM5,21V16.75L18.45,3.32a2,2,0,0,1,2.83,0l1.4,1.43a1.91,1.91,0,0,1,.58,1.4,1.91,1.91,0,0,1-.58,1.4L9.25,21ZM18.45,9,17,7.55Zm-12,3A5.31,5.31,0,0,0,4.9,8.1,5.31,5.31,0,0,0,1,6.5,5.31,5.31,0,0,0,4.9,4.9,5.31,5.31,0,0,0,6.5,1,5.31,5.31,0,0,0,8.1,4.9,5.31,5.31,0,0,0,12,6.5,5.46,5.46,0,0,0,6.5,12Z\"/>\n",
              "  </svg>\n",
              "    </button>\n",
              "    <script>\n",
              "      (() => {\n",
              "      const buttonEl =\n",
              "        document.querySelector('#id_5e505820-7f6c-4277-94c3-5ef37c8719cb button.colab-df-generate');\n",
              "      buttonEl.style.display =\n",
              "        google.colab.kernel.accessAllowed ? 'block' : 'none';\n",
              "\n",
              "      buttonEl.onclick = () => {\n",
              "        google.colab.notebook.generateWithVariable('data');\n",
              "      }\n",
              "      })();\n",
              "    </script>\n",
              "  </div>\n",
              "\n",
              "    </div>\n",
              "  </div>\n"
            ],
            "application/vnd.google.colaboratory.intrinsic+json": {
              "type": "dataframe",
              "variable_name": "data",
              "summary": "{\n  \"name\": \"data\",\n  \"rows\": 10,\n  \"fields\": [\n    {\n      \"column\": \"Position\",\n      \"properties\": {\n        \"dtype\": \"string\",\n        \"num_unique_values\": 10,\n        \"samples\": [\n          \"C-level\",\n          \"Junior Consultant\",\n          \"Region Manager\"\n        ],\n        \"semantic_type\": \"\",\n        \"description\": \"\"\n      }\n    },\n    {\n      \"column\": \"Level\",\n      \"properties\": {\n        \"dtype\": \"number\",\n        \"std\": 3,\n        \"min\": 1,\n        \"max\": 10,\n        \"num_unique_values\": 10,\n        \"samples\": [\n          9,\n          2,\n          6\n        ],\n        \"semantic_type\": \"\",\n        \"description\": \"\"\n      }\n    },\n    {\n      \"column\": \"Salary\",\n      \"properties\": {\n        \"dtype\": \"number\",\n        \"std\": 299373,\n        \"min\": 45000,\n        \"max\": 1000000,\n        \"num_unique_values\": 10,\n        \"samples\": [\n          500000,\n          50000,\n          150000\n        ],\n        \"semantic_type\": \"\",\n        \"description\": \"\"\n      }\n    }\n  ]\n}"
            }
          },
          "metadata": {},
          "execution_count": 101
        }
      ]
    },
    {
      "cell_type": "markdown",
      "source": [
        "# **Dependent and independent variable:**"
      ],
      "metadata": {
        "id": "iZdNV4OJ-pDG"
      }
    },
    {
      "cell_type": "code",
      "source": [
        "x = data.iloc[:,1:-1].values\n",
        "y = data.iloc[:,-1].values"
      ],
      "metadata": {
        "id": "-1wiIyLb-QfG"
      },
      "execution_count": 102,
      "outputs": []
    },
    {
      "cell_type": "code",
      "source": [
        "x"
      ],
      "metadata": {
        "colab": {
          "base_uri": "https://localhost:8080/"
        },
        "id": "5l-2ekW0_fFS",
        "outputId": "b7a7ab5d-6e89-49e0-a5b4-c20986554ff9"
      },
      "execution_count": 103,
      "outputs": [
        {
          "output_type": "execute_result",
          "data": {
            "text/plain": [
              "array([[ 1],\n",
              "       [ 2],\n",
              "       [ 3],\n",
              "       [ 4],\n",
              "       [ 5],\n",
              "       [ 6],\n",
              "       [ 7],\n",
              "       [ 8],\n",
              "       [ 9],\n",
              "       [10]])"
            ]
          },
          "metadata": {},
          "execution_count": 103
        }
      ]
    },
    {
      "cell_type": "code",
      "source": [
        "y"
      ],
      "metadata": {
        "colab": {
          "base_uri": "https://localhost:8080/"
        },
        "id": "Ea2pieEl_hJ9",
        "outputId": "f4052832-722f-47d3-c29e-272f594e3c1a"
      },
      "execution_count": 104,
      "outputs": [
        {
          "output_type": "execute_result",
          "data": {
            "text/plain": [
              "array([  45000,   50000,   60000,   80000,  110000,  150000,  200000,\n",
              "        300000,  500000, 1000000])"
            ]
          },
          "metadata": {},
          "execution_count": 104
        }
      ]
    },
    {
      "cell_type": "code",
      "source": [
        "y = y.reshape(len(y),1)"
      ],
      "metadata": {
        "id": "04BiL7jK_kIU"
      },
      "execution_count": 105,
      "outputs": []
    },
    {
      "cell_type": "code",
      "source": [
        "y"
      ],
      "metadata": {
        "colab": {
          "base_uri": "https://localhost:8080/"
        },
        "id": "xwLgSZn5_oCa",
        "outputId": "05c3a705-21f7-4c0d-f234-75aff6cc9afb"
      },
      "execution_count": 106,
      "outputs": [
        {
          "output_type": "execute_result",
          "data": {
            "text/plain": [
              "array([[  45000],\n",
              "       [  50000],\n",
              "       [  60000],\n",
              "       [  80000],\n",
              "       [ 110000],\n",
              "       [ 150000],\n",
              "       [ 200000],\n",
              "       [ 300000],\n",
              "       [ 500000],\n",
              "       [1000000]])"
            ]
          },
          "metadata": {},
          "execution_count": 106
        }
      ]
    },
    {
      "cell_type": "markdown",
      "source": [
        "# **Scalling of data:**"
      ],
      "metadata": {
        "id": "PvSGtQsa_O3O"
      }
    },
    {
      "cell_type": "code",
      "source": [
        "from sklearn.preprocessing import StandardScaler\n",
        "first = StandardScaler()\n",
        "second = StandardScaler()\n",
        "x = first.fit_transform(x)\n",
        "y = second.fit_transform(y)"
      ],
      "metadata": {
        "id": "vp5xu996_NTK"
      },
      "execution_count": 107,
      "outputs": []
    },
    {
      "cell_type": "code",
      "source": [
        "x"
      ],
      "metadata": {
        "colab": {
          "base_uri": "https://localhost:8080/"
        },
        "id": "QmabOD7zBRLG",
        "outputId": "c79c321c-fc8c-45a5-a5c4-aacb570a7774"
      },
      "execution_count": 108,
      "outputs": [
        {
          "output_type": "execute_result",
          "data": {
            "text/plain": [
              "array([[-1.5666989 ],\n",
              "       [-1.21854359],\n",
              "       [-0.87038828],\n",
              "       [-0.52223297],\n",
              "       [-0.17407766],\n",
              "       [ 0.17407766],\n",
              "       [ 0.52223297],\n",
              "       [ 0.87038828],\n",
              "       [ 1.21854359],\n",
              "       [ 1.5666989 ]])"
            ]
          },
          "metadata": {},
          "execution_count": 108
        }
      ]
    },
    {
      "cell_type": "code",
      "source": [
        "y"
      ],
      "metadata": {
        "colab": {
          "base_uri": "https://localhost:8080/"
        },
        "id": "nPCDAaCUBtrB",
        "outputId": "21e9e38c-9d23-4b49-80d1-5d76258cda22"
      },
      "execution_count": 109,
      "outputs": [
        {
          "output_type": "execute_result",
          "data": {
            "text/plain": [
              "array([[-0.72004253],\n",
              "       [-0.70243757],\n",
              "       [-0.66722767],\n",
              "       [-0.59680786],\n",
              "       [-0.49117815],\n",
              "       [-0.35033854],\n",
              "       [-0.17428902],\n",
              "       [ 0.17781001],\n",
              "       [ 0.88200808],\n",
              "       [ 2.64250325]])"
            ]
          },
          "metadata": {},
          "execution_count": 109
        }
      ]
    },
    {
      "cell_type": "markdown",
      "source": [
        "# **Training and testing of data:**"
      ],
      "metadata": {
        "id": "OpX6jL1m-1zN"
      }
    },
    {
      "cell_type": "code",
      "source": [
        "from sklearn.model_selection import train_test_split\n",
        "x_train,x_test,y_train,y_test = train_test_split(x,y,test_size = 1/3,random_state = 0)"
      ],
      "metadata": {
        "id": "rf3uYXye-0If"
      },
      "execution_count": 110,
      "outputs": []
    },
    {
      "cell_type": "markdown",
      "source": [
        "# **Support vector regression model:**"
      ],
      "metadata": {
        "id": "LIYjQSrhCkXB"
      }
    },
    {
      "cell_type": "code",
      "source": [
        "from sklearn.svm import SVR\n",
        "regressor = SVR(kernel = \"rbf\")\n",
        "regressor.fit(x_train,y_train)"
      ],
      "metadata": {
        "colab": {
          "base_uri": "https://localhost:8080/",
          "height": 132
        },
        "id": "Y_ASy6GSBt9a",
        "outputId": "33026785-57d9-448f-e803-dfcd361320c8"
      },
      "execution_count": 111,
      "outputs": [
        {
          "output_type": "stream",
          "name": "stderr",
          "text": [
            "/usr/local/lib/python3.10/dist-packages/sklearn/utils/validation.py:1143: DataConversionWarning: A column-vector y was passed when a 1d array was expected. Please change the shape of y to (n_samples, ), for example using ravel().\n",
            "  y = column_or_1d(y, warn=True)\n"
          ]
        },
        {
          "output_type": "execute_result",
          "data": {
            "text/plain": [
              "SVR()"
            ],
            "text/html": [
              "<style>#sk-container-id-7 {color: black;background-color: white;}#sk-container-id-7 pre{padding: 0;}#sk-container-id-7 div.sk-toggleable {background-color: white;}#sk-container-id-7 label.sk-toggleable__label {cursor: pointer;display: block;width: 100%;margin-bottom: 0;padding: 0.3em;box-sizing: border-box;text-align: center;}#sk-container-id-7 label.sk-toggleable__label-arrow:before {content: \"▸\";float: left;margin-right: 0.25em;color: #696969;}#sk-container-id-7 label.sk-toggleable__label-arrow:hover:before {color: black;}#sk-container-id-7 div.sk-estimator:hover label.sk-toggleable__label-arrow:before {color: black;}#sk-container-id-7 div.sk-toggleable__content {max-height: 0;max-width: 0;overflow: hidden;text-align: left;background-color: #f0f8ff;}#sk-container-id-7 div.sk-toggleable__content pre {margin: 0.2em;color: black;border-radius: 0.25em;background-color: #f0f8ff;}#sk-container-id-7 input.sk-toggleable__control:checked~div.sk-toggleable__content {max-height: 200px;max-width: 100%;overflow: auto;}#sk-container-id-7 input.sk-toggleable__control:checked~label.sk-toggleable__label-arrow:before {content: \"▾\";}#sk-container-id-7 div.sk-estimator input.sk-toggleable__control:checked~label.sk-toggleable__label {background-color: #d4ebff;}#sk-container-id-7 div.sk-label input.sk-toggleable__control:checked~label.sk-toggleable__label {background-color: #d4ebff;}#sk-container-id-7 input.sk-hidden--visually {border: 0;clip: rect(1px 1px 1px 1px);clip: rect(1px, 1px, 1px, 1px);height: 1px;margin: -1px;overflow: hidden;padding: 0;position: absolute;width: 1px;}#sk-container-id-7 div.sk-estimator {font-family: monospace;background-color: #f0f8ff;border: 1px dotted black;border-radius: 0.25em;box-sizing: border-box;margin-bottom: 0.5em;}#sk-container-id-7 div.sk-estimator:hover {background-color: #d4ebff;}#sk-container-id-7 div.sk-parallel-item::after {content: \"\";width: 100%;border-bottom: 1px solid gray;flex-grow: 1;}#sk-container-id-7 div.sk-label:hover label.sk-toggleable__label {background-color: #d4ebff;}#sk-container-id-7 div.sk-serial::before {content: \"\";position: absolute;border-left: 1px solid gray;box-sizing: border-box;top: 0;bottom: 0;left: 50%;z-index: 0;}#sk-container-id-7 div.sk-serial {display: flex;flex-direction: column;align-items: center;background-color: white;padding-right: 0.2em;padding-left: 0.2em;position: relative;}#sk-container-id-7 div.sk-item {position: relative;z-index: 1;}#sk-container-id-7 div.sk-parallel {display: flex;align-items: stretch;justify-content: center;background-color: white;position: relative;}#sk-container-id-7 div.sk-item::before, #sk-container-id-7 div.sk-parallel-item::before {content: \"\";position: absolute;border-left: 1px solid gray;box-sizing: border-box;top: 0;bottom: 0;left: 50%;z-index: -1;}#sk-container-id-7 div.sk-parallel-item {display: flex;flex-direction: column;z-index: 1;position: relative;background-color: white;}#sk-container-id-7 div.sk-parallel-item:first-child::after {align-self: flex-end;width: 50%;}#sk-container-id-7 div.sk-parallel-item:last-child::after {align-self: flex-start;width: 50%;}#sk-container-id-7 div.sk-parallel-item:only-child::after {width: 0;}#sk-container-id-7 div.sk-dashed-wrapped {border: 1px dashed gray;margin: 0 0.4em 0.5em 0.4em;box-sizing: border-box;padding-bottom: 0.4em;background-color: white;}#sk-container-id-7 div.sk-label label {font-family: monospace;font-weight: bold;display: inline-block;line-height: 1.2em;}#sk-container-id-7 div.sk-label-container {text-align: center;}#sk-container-id-7 div.sk-container {/* jupyter's `normalize.less` sets `[hidden] { display: none; }` but bootstrap.min.css set `[hidden] { display: none !important; }` so we also need the `!important` here to be able to override the default hidden behavior on the sphinx rendered scikit-learn.org. See: https://github.com/scikit-learn/scikit-learn/issues/21755 */display: inline-block !important;position: relative;}#sk-container-id-7 div.sk-text-repr-fallback {display: none;}</style><div id=\"sk-container-id-7\" class=\"sk-top-container\"><div class=\"sk-text-repr-fallback\"><pre>SVR()</pre><b>In a Jupyter environment, please rerun this cell to show the HTML representation or trust the notebook. <br />On GitHub, the HTML representation is unable to render, please try loading this page with nbviewer.org.</b></div><div class=\"sk-container\" hidden><div class=\"sk-item\"><div class=\"sk-estimator sk-toggleable\"><input class=\"sk-toggleable__control sk-hidden--visually\" id=\"sk-estimator-id-7\" type=\"checkbox\" checked><label for=\"sk-estimator-id-7\" class=\"sk-toggleable__label sk-toggleable__label-arrow\">SVR</label><div class=\"sk-toggleable__content\"><pre>SVR()</pre></div></div></div></div></div>"
            ]
          },
          "metadata": {},
          "execution_count": 111
        }
      ]
    },
    {
      "cell_type": "markdown",
      "source": [
        "# **Predict the result :**"
      ],
      "metadata": {
        "id": "Le3_hyeXER1t"
      }
    },
    {
      "cell_type": "code",
      "source": [
        "second.inverse_transform(regressor.predict(first.fit_transform([[6]])).reshape(-1,1))"
      ],
      "metadata": {
        "colab": {
          "base_uri": "https://localhost:8080/"
        },
        "id": "4ljLfXrBDZ0D",
        "outputId": "5901e878-2634-4060-accf-4533ee6070c3"
      },
      "execution_count": 112,
      "outputs": [
        {
          "output_type": "execute_result",
          "data": {
            "text/plain": [
              "array([[149234.98704549]])"
            ]
          },
          "metadata": {},
          "execution_count": 112
        }
      ]
    },
    {
      "cell_type": "markdown",
      "source": [
        "# **Now visualize the result:**"
      ],
      "metadata": {
        "id": "3nZTO4KEHYor"
      }
    },
    {
      "cell_type": "code",
      "source": [
        "plt.scatter(first.inverse_transform(x), second.inverse_transform(y), color = 'red')\n",
        "plt.plot(first.inverse_transform(x), second.inverse_transform(regressor.predict(x).reshape(-1,1)), color = 'blue')\n",
        "plt.title('Truth or Bluff (SVR)')\n",
        "plt.xlabel('Position level')\n",
        "plt.ylabel('Salary')\n",
        "plt.show()"
      ],
      "metadata": {
        "colab": {
          "base_uri": "https://localhost:8080/",
          "height": 472
        },
        "id": "DQMJ16HhEw9M",
        "outputId": "ff393543-cf3d-41f9-ae41-b8bda618a00d"
      },
      "execution_count": 113,
      "outputs": [
        {
          "output_type": "display_data",
          "data": {
            "text/plain": [
              "<Figure size 640x480 with 1 Axes>"
            ],
            "image/png": "[encoded data removed]"
          },
          "metadata": {}
        }
      ]
    },
    {
      "cell_type": "markdown",
      "source": [
        "# **Visualising the SVR results (for higher resolution and smoother curve)**"
      ],
      "metadata": {
        "id": "JuX8q69DICiP"
      }
    },
    {
      "cell_type": "code",
      "source": [
        "X_grid = np.arange(min(first.inverse_transform(x)), max(first.inverse_transform(x)), 0.1)\n",
        "X_grid = X_grid.reshape((len(X_grid), 1))\n",
        "plt.scatter(first.inverse_transform(x), second.inverse_transform(y), color = 'red')\n",
        "plt.plot(X_grid, second.inverse_transform(regressor.predict(first.transform(X_grid)).reshape(-1,1)), color = 'blue')\n",
        "plt.title('Truth or Bluff (SVR)')\n",
        "plt.xlabel('Position level')\n",
        "plt.ylabel('Salary')\n",
        "plt.show()"
      ],
      "metadata": {
        "colab": {
          "base_uri": "https://localhost:8080/",
          "height": 529
        },
        "id": "HjcGfYXwHrkC",
        "outputId": "b1bc9f5d-7c20-4a9b-80b2-7da1d84fb40e"
      },
      "execution_count": 115,
      "outputs": [
        {
          "output_type": "stream",
          "name": "stderr",
          "text": [
            "<ipython-input-115-8f8251735a34>:1: DeprecationWarning: Conversion of an array with ndim > 0 to a scalar is deprecated, and will error in future. Ensure you extract a single element from your array before performing this operation. (Deprecated NumPy 1.25.)\n",
            "  X_grid = np.arange(min(first.inverse_transform(x)), max(first.inverse_transform(x)), 0.1)\n"
          ]
        },
        {
          "output_type": "display_data",
          "data": {
            "text/plain": [
              "<Figure size 640x480 with 1 Axes>"
            ],
            "image/png": "[encoded data removed]"
          },
          "metadata": {}
        }
      ]
    },
    {
      "cell_type": "code",
      "source": [],
      "metadata": {
        "id": "wgkdsZf4IT3L"
      },
      "execution_count": 114,
      "outputs": []
    }
  ]
}